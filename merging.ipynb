{
 "cells": [
  {
   "cell_type": "code",
   "execution_count": 2,
   "metadata": {},
   "outputs": [],
   "source": [
    "import os\n",
    "import pandas as pd\n",
    "#import matplotlib.pyplot as plt\n",
    "#from sklearn.model_selection import train_test_split, ShuffleSplit, KFold, cross_val_score, GridSearchCV\n",
    "#from sklearn.tree import DecisionTreeRegressor\n",
    "#from sklearn.ensemble import RandomForestRegressor\n",
    "#from sklearn.metrics import root_mean_squared_error"
   ]
  },
  {
   "cell_type": "code",
   "execution_count": 19,
   "metadata": {},
   "outputs": [],
   "source": [
    "for file_name in os.listdir(\"files\"):\n",
    "    if file_name.endswith('.csv'):\n",
    "        file_path = os.path.join(\"files\", file_name)\n",
    "\n",
    "        df_name = os.path.splitext(file_name)[0]\n",
    "        globals()[df_name] = pd.read_csv(file_path)\n"
   ]
  },
  {
   "cell_type": "code",
   "execution_count": 20,
   "metadata": {},
   "outputs": [],
   "source": [
    "#dfs with missing data: learn_dataset_job, learn_dataset_retired_jobs, test_dataset_job, test_dataset_retired_jobs"
   ]
  },
  {
   "cell_type": "markdown",
   "metadata": {},
   "source": [
    "# Merging"
   ]
  },
  {
   "cell_type": "code",
   "execution_count": 24,
   "metadata": {},
   "outputs": [],
   "source": [
    "#make sports data simpler - use categories\n",
    "learn_dataset_sport = pd.merge(learn_dataset_sport, code_Sports, left_on=\"Sports\", right_on=\"Code\")\n",
    "learn_dataset_sport[\"Sports_Category\"] = learn_dataset_sport[\"Categorie\"]\n",
    "learn_sports = learn_dataset_sport[[\"PRIMARY_KEY\", \"Sports_Category\"]]"
   ]
  },
  {
   "cell_type": "code",
   "execution_count": 32,
   "metadata": {},
   "outputs": [],
   "source": [
    "learn_dfs = [learn_dataset_emp_contract, learn_dataset_job,learn_dataset_retired_former, learn_dataset_retired_jobs, learn_dataset_retired_pension, learn_sports]\n",
    "\n",
    "learn_data = learn_dataset\n",
    "\n",
    "for df in learn_dfs:\n",
    "    learn_data = pd.merge(learn_data, df, on=\"PRIMARY_KEY\", how=\"outer\")\n",
    "\n",
    "learn_data[\"Sports_Category\"] = learn_data[\"Sports_Category\"].fillna(0).astype(\"int64\")"
   ]
  },
  {
   "cell_type": "code",
   "execution_count": 34,
   "metadata": {},
   "outputs": [],
   "source": [
    "def combine_columns(col_x, col_y):\n",
    "    return col_x.fillna(col_y) if col_y is not None else col_x\n",
    "\n",
    "for column in learn_data.columns:\n",
    "    if column.endswith('_x'):\n",
    "        base_column = column[:-2]  # Remove `_x` suffix\n",
    "        y_column = base_column + '_y'\n",
    "        if y_column in learn_data.columns:\n",
    "            # Combine the columns\n",
    "            learn_data[base_column] = combine_columns(learn_data[column], learn_data[y_column])\n",
    "            # Drop the original `_x` and `_y` columns\n",
    "            learn_data = learn_data.drop(columns=[column, y_column])"
   ]
  },
  {
   "cell_type": "code",
   "execution_count": 36,
   "metadata": {},
   "outputs": [],
   "source": [
    "# for job_42 cats csp_1 and 2 have emp_contract but missing data for all other job stuff\n",
    "# and for csp_8 have missing data for all job stuff \n",
    "\n",
    "# should merge former and current stuff for less columns?"
   ]
  },
  {
   "cell_type": "code",
   "execution_count": 40,
   "metadata": {},
   "outputs": [
    {
     "data": {
      "text/plain": [
       "PRIMARY_KEY              int64\n",
       "sex                     object\n",
       "JOB_42                  object\n",
       "HIGHEST_CREDENTIAL      object\n",
       "act                     object\n",
       "studying                  bool\n",
       "INSEE_CODE              object\n",
       "age_2020                 int64\n",
       "HOUSEHOLD_TYPE          object\n",
       "target                 float64\n",
       "emp_contract            object\n",
       "Pay                    float64\n",
       "FORMER_JOB_42           object\n",
       "former_emp_contract     object\n",
       "retirement_age         float64\n",
       "FORMER_DEP              object\n",
       "RETIREMENT_PAY         float64\n",
       "Sports_Category          int64\n",
       "Employer_category       object\n",
       "employee_count          object\n",
       "Economic_sector         object\n",
       "TYPE_OF_CONTRACT        object\n",
       "WORK_CONDITION          object\n",
       "labor_force_status      object\n",
       "WORKING_HOURS          float64\n",
       "work_description        object\n",
       "JOB_DEP                 object\n",
       "dtype: object"
      ]
     },
     "execution_count": 40,
     "metadata": {},
     "output_type": "execute_result"
    }
   ],
   "source": [
    "learn_data.dtypes #maybe working hours?, retirement age, (retirement) pay, should be int64"
   ]
  },
  {
   "cell_type": "code",
   "execution_count": null,
   "metadata": {},
   "outputs": [],
   "source": []
  }
 ],
 "metadata": {
  "kernelspec": {
   "display_name": "Python 3 (ipykernel)",
   "language": "python",
   "name": "python3"
  },
  "language_info": {
   "codemirror_mode": {
    "name": "ipython",
    "version": 3
   },
   "file_extension": ".py",
   "mimetype": "text/x-python",
   "name": "python",
   "nbconvert_exporter": "python",
   "pygments_lexer": "ipython3",
   "version": "3.11.7"
  }
 },
 "nbformat": 4,
 "nbformat_minor": 4
}
