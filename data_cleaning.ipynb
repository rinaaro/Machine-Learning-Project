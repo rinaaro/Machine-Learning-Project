{
 "cells": [
  {
   "cell_type": "code",
   "execution_count": 1,
   "metadata": {},
   "outputs": [
    {
     "name": "stdout",
     "output_type": "stream",
     "text": [
      "Loaded code_labor_force_status into dataframes['code_labor_force_status']\n",
      "Loaded code_act into dataframes['code_act']\n",
      "Loaded test_dataset_emp_contract into dataframes['test_dataset_emp_contract']\n",
      "Loaded regions into dataframes['regions']\n",
      "Loaded test_dataset_job into dataframes['test_dataset_job']\n",
      "Loaded code_work_description_n2 into dataframes['code_work_description_n2']\n",
      "Loaded test_dataset_retired_jobs into dataframes['test_dataset_retired_jobs']\n",
      "Loaded code_JOB_42 into dataframes['code_JOB_42']\n",
      "Loaded code_work_description_n1 into dataframes['code_work_description_n1']\n",
      "Loaded city_pop into dataframes['city_pop']\n",
      "Loaded code_WORK_CONDITION into dataframes['code_WORK_CONDITION']\n",
      "Loaded test_dataset_sport into dataframes['test_dataset_sport']\n",
      "Loaded learn_dataset_retired_jobs into dataframes['learn_dataset_retired_jobs']\n",
      "Loaded city_adm into dataframes['city_adm']\n",
      "Loaded code_work_description_map into dataframes['code_work_description_map']\n",
      "Loaded departments into dataframes['departments']\n",
      "Loaded learn_dataset_emp_contract into dataframes['learn_dataset_emp_contract']\n",
      "Loaded test_dataset_retired_pension into dataframes['test_dataset_retired_pension']\n",
      "Loaded learn_dataset_retired_pension into dataframes['learn_dataset_retired_pension']\n",
      "Loaded city_loc into dataframes['city_loc']\n",
      "Loaded code_Economic_sector into dataframes['code_Economic_sector']\n",
      "Loaded code_TYPE_OF_CONTRACT into dataframes['code_TYPE_OF_CONTRACT']\n",
      "Loaded learn_dataset_sport into dataframes['learn_dataset_sport']\n",
      "Loaded code_work_description into dataframes['code_work_description']\n",
      "Loaded test_dataset_retired_former into dataframes['test_dataset_retired_former']\n",
      "Loaded code_Employer_category into dataframes['code_Employer_category']\n",
      "Loaded code_employee_count into dataframes['code_employee_count']\n",
      "Loaded test_dataset into dataframes['test_dataset']\n",
      "Loaded learn_dataset_job into dataframes['learn_dataset_job']\n",
      "Loaded code_HIGHEST_CREDENTIAL into dataframes['code_HIGHEST_CREDENTIAL']\n",
      "Loaded learn_dataset_retired_former into dataframes['learn_dataset_retired_former']\n",
      "Loaded code_Sports into dataframes['code_Sports']\n",
      "Loaded code_emp_contract into dataframes['code_emp_contract']\n",
      "Loaded code_HOUSEHOLD_TYPE into dataframes['code_HOUSEHOLD_TYPE']\n",
      "Loaded learn_dataset into dataframes['learn_dataset']\n"
     ]
    }
   ],
   "source": [
    "import os\n",
    "import pandas as pd\n",
    "\n",
    "# Specify the directory containing the CSV files\n",
    "files_folder = \"files\"\n",
    "\n",
    "# Dictionary to store DataFrames\n",
    "dataframes = {}\n",
    "\n",
    "# Iterate over all files in the folder\n",
    "for file_name in os.listdir(files_folder):\n",
    "    if file_name.endswith('.csv'):  # Check if the file is a CSV\n",
    "        file_path = os.path.join(files_folder, file_name)\n",
    "        # Read the CSV file and store it in the dictionary\n",
    "        df_name = os.path.splitext(file_name)[0]  # Use the file name without extension\n",
    "        dataframes[df_name] = pd.read_csv(file_path)\n",
    "        print(f\"Loaded {df_name} into dataframes['{df_name}']\")\n"
   ]
  },
  {
   "cell_type": "code",
   "execution_count": null,
   "metadata": {},
   "outputs": [],
   "source": []
  }
 ],
 "metadata": {
  "kernelspec": {
   "display_name": "Python 3",
   "language": "python",
   "name": "python3"
  },
  "language_info": {
   "codemirror_mode": {
    "name": "ipython",
    "version": 3
   },
   "file_extension": ".py",
   "mimetype": "text/x-python",
   "name": "python",
   "nbconvert_exporter": "python",
   "pygments_lexer": "ipython3",
   "version": "3.12.4"
  }
 },
 "nbformat": 4,
 "nbformat_minor": 2
}
